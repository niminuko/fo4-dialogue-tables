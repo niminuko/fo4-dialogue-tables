{
 "cells": [
  {
   "cell_type": "markdown",
   "metadata": {},
   "source": [
    "# Getting Fallout 4 Dialogue in Pandas\n",
    "Using the `requests` library alongside `BeautifulSoup`, the webpage for the dialogue of a given Fallout 4 NPC or character may be gathered. To achieve this, CSS selectors were utilized with the `.select()` method found in the `BeautifulSoup` library.\n",
    "\n",
    "First, the webscraping libraries were imported and an LXML parser read the contents of the website. The character [Cait](https://fallout-archive.fandom.com/wiki/Cait) had been selected for this Jupyter notebook, but any character from [the list of Fallout 4 characters](https://fallout-archive.fandom.com/wiki/Fallout_4_characters) should suffice, provided that the character actually has dialogue in-game and that the source page contains said in-game dialogue."
   ]
  },
  {
   "cell_type": "code",
   "execution_count": 1,
   "metadata": {},
   "outputs": [],
   "source": [
    "import requests\n",
    "from bs4 import BeautifulSoup\n",
    "\n",
    "character = 'Cait'\n",
    "url = f'https://fallout-archive.fandom.com/wiki/{character}%27s_dialogue'\n",
    "r = requests.get(url)\n",
    "soup = BeautifulSoup(r.content, 'lxml')"
   ]
  },
  {
   "cell_type": "markdown",
   "metadata": {},
   "source": [
    "The returned contents had HTML tags in most of its entries. Thus, it proved convenient to create a function to strip the entries of common tags."
   ]
  },
  {
   "cell_type": "code",
   "execution_count": 2,
   "metadata": {},
   "outputs": [],
   "source": [
    "def trim_tags(sample: str) -> str:\n",
    "    '''\n",
    "    Given a string, from a BeautifulSoup select query on a CSS selector,\n",
    "    trim the <th>, </th>, <td>, and </td> tags along with the escaped\n",
    "    new line character \\\\n.\n",
    "    \n",
    "    Parameters\n",
    "    ==========\n",
    "    @sample, str: A CSS selector\n",
    "    '''\n",
    "    return sample.replace('<th>', '').replace('</th>', '').replace('<td>', '').replace('</td>', '').replace('\\n', '')"
   ]
  },
  {
   "cell_type": "markdown",
   "metadata": {},
   "source": [
    "Below is a preview of the returned contents after applying the `trim_tags` function by list comprehension."
   ]
  },
  {
   "cell_type": "code",
   "execution_count": 3,
   "metadata": {
    "tags": []
   },
   "outputs": [
    {
     "data": {
      "text/plain": [
       "['CATEGORY',\n",
       " 'TYPE',\n",
       " 'SUBTYPE',\n",
       " 'PROMPT',\n",
       " 'DIALOGUE BEFORE',\n",
       " 'RESPONSE TEXT',\n",
       " 'DIALOGUE AFTER',\n",
       " 'SCRIPT NOTES',\n",
       " 'SCENE']"
      ]
     },
     "execution_count": 3,
     "metadata": {},
     "output_type": "execute_result"
    }
   ],
   "source": [
    "columns_ = [trim_tags(str(child)) for child in soup.select('tr th:nth-child(n)')][2:]\n",
    "columns_"
   ]
  },
  {
   "cell_type": "markdown",
   "metadata": {},
   "source": [
    "Typically, a CSS selector would allow one to simply gather all $n$ children of a given tag. For example, `'td:nth-child(n)'` usually would return the elements found under the `td` tag:"
   ]
  },
  {
   "cell_type": "code",
   "execution_count": 4,
   "metadata": {},
   "outputs": [
    {
     "data": {
      "text/plain": [
       "[<td class=\"va-infobox-spacing-v\" colspan=\"3\"></td>,\n",
       " <td class=\"va-infobox-label\" colspan=\"1\" style=\"\" title=\"\">Data File</td>,\n",
       " <td class=\"va-infobox-spacing-h\"></td>,\n",
       " <td class=\"va-infobox-content\" colspan=\"1\" style=\"\" title=\"\">fallout4.esm</td>,\n",
       " <td class=\"va-infobox-spacing-v\"></td>,\n",
       " <td>Scene\n",
       " </td>,\n",
       " <td>SceneDialogue\n",
       " </td>,\n",
       " <td>Custom\n",
       " </td>,\n",
       " <td>\n",
       " </td>,\n",
       " <td>Player Default: It was America's pasttime. A sport that united families on warm summer days. And it wasn't violent. Mostly.\n",
       " </td>]"
      ]
     },
     "execution_count": 4,
     "metadata": {},
     "output_type": "execute_result"
    }
   ],
   "source": [
    "soup.select('table tbody td:nth-child(n)')[15:25]"
   ]
  },
  {
   "cell_type": "markdown",
   "metadata": {},
   "source": [
    "Admittedly, all $n$ children had been returned; however, the format returned above appears to be considerably inconvenient to deal with, as it suggests the use of cyclic indexing of lists (that is, an approach is possible through the use of the modulo operator `%`). An easier solution exists.\n",
    "\n",
    "Consider measuring the total size of the collection of *all* children and divide that value by the total size of an individual child $b$: this essentially solves for $n$. This approach is valid because each column has the same length, so the choice of $b$ is entirely arbitrary."
   ]
  },
  {
   "cell_type": "code",
   "execution_count": 5,
   "metadata": {},
   "outputs": [
    {
     "data": {
      "text/plain": [
       "9"
      ]
     },
     "execution_count": 5,
     "metadata": {},
     "output_type": "execute_result"
    }
   ],
   "source": [
    "import math\n",
    "# nth-child(n) not working as desired... so how many n's do we need?\n",
    "num_children = math.ceil(len(soup.select('table tbody td:nth-child(n)')) / len(soup.select('table tbody td:nth-child(3)')))\n",
    "num_children"
   ]
  },
  {
   "cell_type": "markdown",
   "metadata": {},
   "source": [
    "An even easier (perhaps obvious) approach is to make note that `columns_` has nine elements: there exists a child for each element. With $n$ known, a list comprehension allows for appending the contents of an individual child to a list by iterating through integer values $i = 0, 1, \\ldots,  n$."
   ]
  },
  {
   "cell_type": "code",
   "execution_count": 6,
   "metadata": {},
   "outputs": [],
   "source": [
    "# It should be nine, could have taken the number of columns from above!\n",
    "massive_list_ = [soup.select(f'table tbody td:nth-child({idx + 1})') for idx in range(num_children)]"
   ]
  },
  {
   "cell_type": "code",
   "execution_count": 7,
   "metadata": {},
   "outputs": [
    {
     "data": {
      "text/plain": [
       "[<td>MoeGreetSceneBaseball02\n",
       " </td>,\n",
       " <td>MoeGreetSceneBaseball02\n",
       " </td>,\n",
       " <td>MoeGreetSceneBaseball02\n",
       " </td>,\n",
       " <td>08MayorIntroScene2a\n",
       " </td>,\n",
       " <td>08MayorIntroScene2a\n",
       " </td>]"
      ]
     },
     "execution_count": 7,
     "metadata": {},
     "output_type": "execute_result"
    }
   ],
   "source": [
    "massive_list_[8][:5]"
   ]
  },
  {
   "cell_type": "markdown",
   "metadata": {},
   "source": [
    "Fortunately, a function had already been created to conveniently remove the HTML tags. Similarly, a function which indentifies a non-dialogue entry with a single asterisk `*` had also been created. For the purpose of creating a `pandas` DataFrame of Fallout 4 dialogue, any element that is *not* dialogue (with the exception of those that give context to the dialogue) is relatively useless in the event of training a model."
   ]
  },
  {
   "cell_type": "code",
   "execution_count": 8,
   "metadata": {},
   "outputs": [],
   "source": [
    "def purge_nondialogue(entry: str) -> str:\n",
    "    '''\n",
    "    Given a string, from a BeautifulSoup select query on a CSS selector,\n",
    "    remove the entry if there is any indication it is not dialogue.\n",
    "    \n",
    "    Parameters\n",
    "    ==========\n",
    "    @sample, str: A CSS selector\n",
    "    '''\n",
    "    for idx in range(len(entry)):\n",
    "        if '<td class=' in str(entry[idx]):\n",
    "            entry[idx] = '*'\n",
    "    return entry"
   ]
  },
  {
   "cell_type": "code",
   "execution_count": 9,
   "metadata": {},
   "outputs": [
    {
     "data": {
      "text/plain": [
       "['*',\n",
       " '*',\n",
       " '*',\n",
       " '*',\n",
       " '*',\n",
       " '*',\n",
       " '*',\n",
       " '*',\n",
       " '*',\n",
       " '*',\n",
       " <td>Scene\n",
       " </td>,\n",
       " <td>Scene\n",
       " </td>,\n",
       " <td>Scene\n",
       " </td>,\n",
       " <td>Scene\n",
       " </td>,\n",
       " <td>Scene\n",
       " </td>]"
      ]
     },
     "execution_count": 9,
     "metadata": {},
     "output_type": "execute_result"
    }
   ],
   "source": [
    "purged_massive_list = [purge_nondialogue(massive_list_[idx]) for idx in range(len(massive_list_))]\n",
    "purged_massive_list[0][:15]"
   ]
  },
  {
   "cell_type": "markdown",
   "metadata": {},
   "source": [
    "Reassigning the non-dialogue entries to asterisks will help in standardizing the length of each column, as each column *must* have the same length (as does the source page). After removing non-dialogue entries, all common HTML tags were also removed."
   ]
  },
  {
   "cell_type": "code",
   "execution_count": 10,
   "metadata": {},
   "outputs": [
    {
     "data": {
      "text/plain": [
       "['*',\n",
       " '*',\n",
       " '*',\n",
       " '*',\n",
       " '*',\n",
       " '*',\n",
       " '*',\n",
       " '*',\n",
       " '*',\n",
       " '*',\n",
       " 'Scene',\n",
       " 'Scene',\n",
       " 'Scene',\n",
       " 'Scene',\n",
       " 'Scene']"
      ]
     },
     "execution_count": 10,
     "metadata": {},
     "output_type": "execute_result"
    }
   ],
   "source": [
    "trimmed_purge = [[trim_tags(str(entry)) for entry in purged_massive_list[idx]] for idx in range(len(purged_massive_list))]\n",
    "trimmed_purge[0][:15]"
   ]
  },
  {
   "cell_type": "markdown",
   "metadata": {},
   "source": [
    "Keep in mind that the `*` character had been used to identify entries that have been *made* to be empty due to data processing; any entries that are actually empty (i.e., `''`) are to be empty in the finalized `pandas` DataFrame.\n",
    "\n",
    "Thus, a `while`-loop had been utilized in iteratively removing all `*` entries to reduce the size of offending columns to match that of its corresponding source column (that is, the matching column on the website)."
   ]
  },
  {
   "cell_type": "code",
   "execution_count": 11,
   "metadata": {},
   "outputs": [],
   "source": [
    "# Purge the *s; the empty values are actually empty in the source database! Beware!\n",
    "for idx in range(len(trimmed_purge)):\n",
    "    while '*' in trimmed_purge[idx]:\n",
    "        trimmed_purge[idx].remove('*')"
   ]
  },
  {
   "cell_type": "code",
   "execution_count": 12,
   "metadata": {},
   "outputs": [
    {
     "data": {
      "text/plain": [
       "['Scene', 'Scene', 'Scene', 'Scene', 'Scene']"
      ]
     },
     "execution_count": 12,
     "metadata": {},
     "output_type": "execute_result"
    }
   ],
   "source": [
    "trimmed_purge[0][:5]"
   ]
  },
  {
   "cell_type": "markdown",
   "metadata": {},
   "source": [
    "Before the final steps dealing with DataFrame construction, it was ensured that each and every entry had the same length. Any shorter-than-max-length entries had blank data appended until the entry had reached proper size. Missing data should be no new issue for a data scientist and can be addressed when the time arises."
   ]
  },
  {
   "cell_type": "code",
   "execution_count": 13,
   "metadata": {},
   "outputs": [],
   "source": [
    "# Get the max length of an entry\n",
    "lens = []\n",
    "for entry in trimmed_purge:\n",
    "    lens.append(len(entry))\n",
    "max_len = max(lens)\n",
    "\n",
    "# Adjusts shorter entries to match max length\n",
    "for entry in trimmed_purge:\n",
    "    if len(entry) < max_len:\n",
    "        delta = max_len - len(entry)\n",
    "        for idx in range(delta):\n",
    "            entry.append('')"
   ]
  },
  {
   "cell_type": "markdown",
   "metadata": {},
   "source": [
    "With the data having been entirely processed, only the construction of the DataFrame remained; however, instantiating the DataFrame directly from `trimmed_purge` would have returned an error. Such a direct instantiation incorrectly aligns the data against the columns and there is a dimension mismatch. \n",
    "\n",
    "Instead, an empty DataFrame with the correct columns had been created first."
   ]
  },
  {
   "cell_type": "code",
   "execution_count": 14,
   "metadata": {},
   "outputs": [
    {
     "data": {
      "text/html": [
       "<div>\n",
       "<style scoped>\n",
       "    .dataframe tbody tr th:only-of-type {\n",
       "        vertical-align: middle;\n",
       "    }\n",
       "\n",
       "    .dataframe tbody tr th {\n",
       "        vertical-align: top;\n",
       "    }\n",
       "\n",
       "    .dataframe thead th {\n",
       "        text-align: right;\n",
       "    }\n",
       "</style>\n",
       "<table border=\"1\" class=\"dataframe\">\n",
       "  <thead>\n",
       "    <tr style=\"text-align: right;\">\n",
       "      <th></th>\n",
       "      <th>CATEGORY</th>\n",
       "      <th>TYPE</th>\n",
       "      <th>SUBTYPE</th>\n",
       "      <th>PROMPT</th>\n",
       "      <th>DIALOGUE BEFORE</th>\n",
       "      <th>RESPONSE TEXT</th>\n",
       "      <th>DIALOGUE AFTER</th>\n",
       "      <th>SCRIPT NOTES</th>\n",
       "      <th>SCENE</th>\n",
       "    </tr>\n",
       "  </thead>\n",
       "  <tbody>\n",
       "  </tbody>\n",
       "</table>\n",
       "</div>"
      ],
      "text/plain": [
       "Empty DataFrame\n",
       "Columns: [CATEGORY, TYPE, SUBTYPE, PROMPT, DIALOGUE BEFORE, RESPONSE TEXT, DIALOGUE AFTER, SCRIPT NOTES, SCENE]\n",
       "Index: []"
      ]
     },
     "execution_count": 14,
     "metadata": {},
     "output_type": "execute_result"
    }
   ],
   "source": [
    "import pandas as pd\n",
    "\n",
    "df = pd.DataFrame([], columns = columns_)\n",
    "df.head()"
   ]
  },
  {
   "cell_type": "markdown",
   "metadata": {},
   "source": [
    "An enumeration was then used to iterate through the sections of `trimmed_purge`, correctly mapping each entry with its corresponding column."
   ]
  },
  {
   "cell_type": "code",
   "execution_count": 15,
   "metadata": {},
   "outputs": [],
   "source": [
    "for idx, cat in enumerate(df.columns):\n",
    "    df[cat] = trimmed_purge[idx]"
   ]
  },
  {
   "cell_type": "code",
   "execution_count": 16,
   "metadata": {},
   "outputs": [
    {
     "data": {
      "text/html": [
       "<div>\n",
       "<style scoped>\n",
       "    .dataframe tbody tr th:only-of-type {\n",
       "        vertical-align: middle;\n",
       "    }\n",
       "\n",
       "    .dataframe tbody tr th {\n",
       "        vertical-align: top;\n",
       "    }\n",
       "\n",
       "    .dataframe thead th {\n",
       "        text-align: right;\n",
       "    }\n",
       "</style>\n",
       "<table border=\"1\" class=\"dataframe\">\n",
       "  <thead>\n",
       "    <tr style=\"text-align: right;\">\n",
       "      <th></th>\n",
       "      <th>CATEGORY</th>\n",
       "      <th>TYPE</th>\n",
       "      <th>SUBTYPE</th>\n",
       "      <th>PROMPT</th>\n",
       "      <th>DIALOGUE BEFORE</th>\n",
       "      <th>RESPONSE TEXT</th>\n",
       "      <th>DIALOGUE AFTER</th>\n",
       "      <th>SCRIPT NOTES</th>\n",
       "      <th>SCENE</th>\n",
       "    </tr>\n",
       "  </thead>\n",
       "  <tbody>\n",
       "    <tr>\n",
       "      <th>0</th>\n",
       "      <td>Scene</td>\n",
       "      <td>SceneDialogue</td>\n",
       "      <td>Custom</td>\n",
       "      <td></td>\n",
       "      <td>Player Default: It was America's pasttime. A s...</td>\n",
       "      <td>Sounds stupid. Without a little violence, what...</td>\n",
       "      <td>Moe: ... I like my version better.</td>\n",
       "      <td></td>\n",
       "      <td>MoeGreetSceneBaseball02</td>\n",
       "    </tr>\n",
       "    <tr>\n",
       "      <th>1</th>\n",
       "      <td>Scene</td>\n",
       "      <td>SceneDialogue</td>\n",
       "      <td>Custom</td>\n",
       "      <td></td>\n",
       "      <td>Player Default: The teams would also beat the ...</td>\n",
       "      <td>Now that's my kind of action.</td>\n",
       "      <td>Moe: ... I like my version better.</td>\n",
       "      <td></td>\n",
       "      <td>MoeGreetSceneBaseball02</td>\n",
       "    </tr>\n",
       "    <tr>\n",
       "      <th>2</th>\n",
       "      <td>Scene</td>\n",
       "      <td>SceneDialogue</td>\n",
       "      <td>Custom</td>\n",
       "      <td></td>\n",
       "      <td>Player Default: There were balls, strikes, thr...</td>\n",
       "      <td>No hittin' or beatin'? What's the damn point?</td>\n",
       "      <td>Moe: ... I like my version better.</td>\n",
       "      <td></td>\n",
       "      <td>MoeGreetSceneBaseball02</td>\n",
       "    </tr>\n",
       "    <tr>\n",
       "      <th>3</th>\n",
       "      <td>Scene</td>\n",
       "      <td>SceneDialogue</td>\n",
       "      <td>Custom</td>\n",
       "      <td></td>\n",
       "      <td>Player Default: Always believed in freedom of ...</td>\n",
       "      <td>We use newspapers at the Combat Zone... put it...</td>\n",
       "      <td>Mayor: Oh, I didn't mean to bring you into thi...</td>\n",
       "      <td></td>\n",
       "      <td>08MayorIntroScene2a</td>\n",
       "    </tr>\n",
       "    <tr>\n",
       "      <th>4</th>\n",
       "      <td>Scene</td>\n",
       "      <td>SceneDialogue</td>\n",
       "      <td>Custom</td>\n",
       "      <td></td>\n",
       "      <td>Player Default: Newspapers just like to stir u...</td>\n",
       "      <td>I tried to read a newspaper once but I couldn'...</td>\n",
       "      <td>Mayor: Oh, I didn't mean to bring you into thi...</td>\n",
       "      <td></td>\n",
       "      <td>08MayorIntroScene2a</td>\n",
       "    </tr>\n",
       "  </tbody>\n",
       "</table>\n",
       "</div>"
      ],
      "text/plain": [
       "  CATEGORY           TYPE SUBTYPE PROMPT  \\\n",
       "0    Scene  SceneDialogue  Custom          \n",
       "1    Scene  SceneDialogue  Custom          \n",
       "2    Scene  SceneDialogue  Custom          \n",
       "3    Scene  SceneDialogue  Custom          \n",
       "4    Scene  SceneDialogue  Custom          \n",
       "\n",
       "                                     DIALOGUE BEFORE  \\\n",
       "0  Player Default: It was America's pasttime. A s...   \n",
       "1  Player Default: The teams would also beat the ...   \n",
       "2  Player Default: There were balls, strikes, thr...   \n",
       "3  Player Default: Always believed in freedom of ...   \n",
       "4  Player Default: Newspapers just like to stir u...   \n",
       "\n",
       "                                       RESPONSE TEXT  \\\n",
       "0  Sounds stupid. Without a little violence, what...   \n",
       "1                      Now that's my kind of action.   \n",
       "2      No hittin' or beatin'? What's the damn point?   \n",
       "3  We use newspapers at the Combat Zone... put it...   \n",
       "4  I tried to read a newspaper once but I couldn'...   \n",
       "\n",
       "                                      DIALOGUE AFTER SCRIPT NOTES  \\\n",
       "0                 Moe: ... I like my version better.                \n",
       "1                 Moe: ... I like my version better.                \n",
       "2                 Moe: ... I like my version better.                \n",
       "3  Mayor: Oh, I didn't mean to bring you into thi...                \n",
       "4  Mayor: Oh, I didn't mean to bring you into thi...                \n",
       "\n",
       "                     SCENE  \n",
       "0  MoeGreetSceneBaseball02  \n",
       "1  MoeGreetSceneBaseball02  \n",
       "2  MoeGreetSceneBaseball02  \n",
       "3      08MayorIntroScene2a  \n",
       "4      08MayorIntroScene2a  "
      ]
     },
     "execution_count": 16,
     "metadata": {},
     "output_type": "execute_result"
    }
   ],
   "source": [
    "df.head()"
   ]
  },
  {
   "cell_type": "markdown",
   "metadata": {},
   "source": [
    "Finally, the DataFrame gets exported to `.csv`."
   ]
  },
  {
   "cell_type": "code",
   "execution_count": 17,
   "metadata": {},
   "outputs": [],
   "source": [
    "df.to_csv(f'{character.lower()}_dialogue.csv', index = False)"
   ]
  },
  {
   "cell_type": "markdown",
   "metadata": {},
   "source": [
    "## Closing Remarks\n",
    "As mentioned in the beginning, the character Cait had been selected for this Jupyter notebook, but any character from the list of Fallout 4 characters should suffice, provided that the character actually has dialogue in-game and that the source page contains said in-game dialogue. This Notebook serves to illustrate the transformation of a full dialogue table of a Fallout 4 character from the associated website into a `pandas` DataFrame. \n",
    "\n",
    "Ultimately, this entire Jupyter Notebook may be reduced to a Python script to be utilized in a Natural Language Processing (NLP) project. It is through a DataFrame of character dialogue that a library such as `nltk` or `spaCy` may train on and learn about characters and content related to the Fallout universe."
   ]
  }
 ],
 "metadata": {
  "kernelspec": {
   "display_name": "Python 3",
   "language": "python",
   "name": "python3"
  },
  "language_info": {
   "codemirror_mode": {
    "name": "ipython",
    "version": 3
   },
   "file_extension": ".py",
   "mimetype": "text/x-python",
   "name": "python",
   "nbconvert_exporter": "python",
   "pygments_lexer": "ipython3",
   "version": "3.9.7"
  }
 },
 "nbformat": 4,
 "nbformat_minor": 4
}
