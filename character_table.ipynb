{
 "cells": [
  {
   "cell_type": "markdown",
   "metadata": {},
   "source": [
    "# Capturing All Characters from Fallout 4\n",
    "This notebook aims at capturing each available character in Fallout 4 to be combined with a separate script which may scrape all of a selected character's dialogue in-game. While the first notebook that scrapes Cait's dialogue had used `BeautifulSoup`, this notebook uses `requests-html` and a touch of list finagling until a pretty pandas DataFrame is obtained."
   ]
  },
  {
   "cell_type": "code",
   "execution_count": 1,
   "metadata": {},
   "outputs": [],
   "source": [
    "from requests_html import HTMLSession\n",
    "\n",
    "session = HTMLSession()\n",
    "\n",
    "url = 'https://fallout.fandom.com/wiki/Fallout_4_characters'\n",
    "r = session.get(url)"
   ]
  },
  {
   "cell_type": "markdown",
   "metadata": {},
   "source": [
    "Get the main element container and split its text based on each new-line entry."
   ]
  },
  {
   "cell_type": "code",
   "execution_count": 2,
   "metadata": {},
   "outputs": [
    {
     "data": {
      "text/plain": [
       "['Location',\n",
       " 'Sole Survivor',\n",
       " 'MQDadVoice.txt /MQMomVoice.txt',\n",
       " '00000007',\n",
       " '00000014',\n",
       " 'Sanctuary Hills, Vault 111',\n",
       " 'Base game',\n",
       " 'Abernathy Farm',\n",
       " 'Name',\n",
       " 'Dialogue file',\n",
       " 'Form ID',\n",
       " 'Ref ID',\n",
       " 'Location',\n",
       " 'Blake Abernathy',\n",
       " 'BlakeAbernathy.txt',\n",
       " '0006B4D3',\n",
       " '0006D3A2',\n",
       " 'Abernathy farm',\n",
       " 'Connie Abernathy',\n",
       " 'ConnieAbernathy.txt',\n",
       " '0006B4D1',\n",
       " '0006D3A3',\n",
       " 'Abernathy farm',\n",
       " 'Lucy Abernathy',\n",
       " 'LucyAbernathy.txt']"
      ]
     },
     "execution_count": 2,
     "metadata": {},
     "output_type": "execute_result"
    }
   ],
   "source": [
    "super_list = str(r.html.find('#mw-content-text > div')[0].text).split('\\n')\n",
    "super_list[150:175]"
   ]
  },
  {
   "cell_type": "markdown",
   "metadata": {},
   "source": [
    "Notice that characters that have (considerable) dialogue have an associated `.txt` file. Therefore, a simple approach would be to check if '.txt' is present in an element and to get the element before it for the character's name."
   ]
  },
  {
   "cell_type": "code",
   "execution_count": 10,
   "metadata": {},
   "outputs": [],
   "source": [
    "names = []\n",
    "for idx in range(len(super_list)):\n",
    "    if '.txt' in super_list[idx]:\n",
    "        names.append(super_list[idx - 1])"
   ]
  },
  {
   "cell_type": "code",
   "execution_count": 11,
   "metadata": {},
   "outputs": [
    {
     "data": {
      "text/plain": [
       "['Sole Survivor',\n",
       " 'Blake Abernathy',\n",
       " 'Connie Abernathy',\n",
       " 'Lucy Abernathy',\n",
       " 'Chancer']"
      ]
     },
     "execution_count": 11,
     "metadata": {},
     "output_type": "execute_result"
    }
   ],
   "source": [
    "names[:5]"
   ]
  },
  {
   "cell_type": "markdown",
   "metadata": {},
   "source": [
    "Similarly, locations of each character seem to appear as the third entry *after* the element with the '.txt' extension. While the location isn't necessary, it wouldn't hurt to add."
   ]
  },
  {
   "cell_type": "code",
   "execution_count": 14,
   "metadata": {},
   "outputs": [],
   "source": [
    "locations = []\n",
    "for idx in range(len(super_list)):\n",
    "    if '.txt' in super_list[idx]:\n",
    "        try:\n",
    "            locations.append(super_list[idx + 3])\n",
    "        except:\n",
    "            break"
   ]
  },
  {
   "cell_type": "code",
   "execution_count": 15,
   "metadata": {},
   "outputs": [
    {
     "data": {
      "text/plain": [
       "['Sanctuary Hills, Vault 111',\n",
       " 'Abernathy farm',\n",
       " 'Abernathy farm',\n",
       " 'Abernathy farm',\n",
       " 'Andrew station']"
      ]
     },
     "execution_count": 15,
     "metadata": {},
     "output_type": "execute_result"
    }
   ],
   "source": [
    "locations[:5]"
   ]
  },
  {
   "cell_type": "markdown",
   "metadata": {},
   "source": [
    "All that is left is to zip the lists together and put them into a DataFrame for exporting."
   ]
  },
  {
   "cell_type": "code",
   "execution_count": 17,
   "metadata": {},
   "outputs": [
    {
     "data": {
      "text/html": [
       "<div>\n",
       "<style scoped>\n",
       "    .dataframe tbody tr th:only-of-type {\n",
       "        vertical-align: middle;\n",
       "    }\n",
       "\n",
       "    .dataframe tbody tr th {\n",
       "        vertical-align: top;\n",
       "    }\n",
       "\n",
       "    .dataframe thead th {\n",
       "        text-align: right;\n",
       "    }\n",
       "</style>\n",
       "<table border=\"1\" class=\"dataframe\">\n",
       "  <thead>\n",
       "    <tr style=\"text-align: right;\">\n",
       "      <th></th>\n",
       "      <th>Character</th>\n",
       "      <th>Location</th>\n",
       "    </tr>\n",
       "  </thead>\n",
       "  <tbody>\n",
       "    <tr>\n",
       "      <th>0</th>\n",
       "      <td>Sole Survivor</td>\n",
       "      <td>Sanctuary Hills, Vault 111</td>\n",
       "    </tr>\n",
       "    <tr>\n",
       "      <th>1</th>\n",
       "      <td>Blake Abernathy</td>\n",
       "      <td>Abernathy farm</td>\n",
       "    </tr>\n",
       "    <tr>\n",
       "      <th>2</th>\n",
       "      <td>Connie Abernathy</td>\n",
       "      <td>Abernathy farm</td>\n",
       "    </tr>\n",
       "    <tr>\n",
       "      <th>3</th>\n",
       "      <td>Lucy Abernathy</td>\n",
       "      <td>Abernathy farm</td>\n",
       "    </tr>\n",
       "    <tr>\n",
       "      <th>4</th>\n",
       "      <td>Chancer</td>\n",
       "      <td>Andrew station</td>\n",
       "    </tr>\n",
       "  </tbody>\n",
       "</table>\n",
       "</div>"
      ],
      "text/plain": [
       "          Character                    Location\n",
       "0     Sole Survivor  Sanctuary Hills, Vault 111\n",
       "1   Blake Abernathy              Abernathy farm\n",
       "2  Connie Abernathy              Abernathy farm\n",
       "3    Lucy Abernathy              Abernathy farm\n",
       "4           Chancer              Andrew station"
      ]
     },
     "execution_count": 17,
     "metadata": {},
     "output_type": "execute_result"
    }
   ],
   "source": [
    "import pandas as pd\n",
    "\n",
    "df = pd.DataFrame(zip(names, locations), columns=['Character', 'Location'])\n",
    "df.head()"
   ]
  },
  {
   "cell_type": "code",
   "execution_count": 18,
   "metadata": {},
   "outputs": [],
   "source": [
    "df.to_csv('character_names.csv', index=False)"
   ]
  }
 ],
 "metadata": {
  "kernelspec": {
   "display_name": "Python 3",
   "language": "python",
   "name": "python3"
  },
  "language_info": {
   "codemirror_mode": {
    "name": "ipython",
    "version": 3
   },
   "file_extension": ".py",
   "mimetype": "text/x-python",
   "name": "python",
   "nbconvert_exporter": "python",
   "pygments_lexer": "ipython3",
   "version": "3.9.7"
  }
 },
 "nbformat": 4,
 "nbformat_minor": 4
}
